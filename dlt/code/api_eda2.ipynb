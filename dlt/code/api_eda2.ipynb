{
 "cells": [
  {
   "cell_type": "code",
   "execution_count": 1,
   "metadata": {},
   "outputs": [
    {
     "data": {
      "text/plain": [
       "[{'id': 'BO0201A',\n",
       "  'type': 'l',\n",
       "  'text': 'Pris per kvm för nybyggda ordinära flerbostadshus'},\n",
       " {'id': 'BO0201B',\n",
       "  'type': 'l',\n",
       "  'text': 'Pris per lägenhet för nybyggda ordinära flerbostadshus'},\n",
       " {'id': 'BO0201C',\n",
       "  'type': 'l',\n",
       "  'text': 'Pris per kvm för nybyggda ordinära gruppbyggda småhus'},\n",
       " {'id': 'BO0201D',\n",
       "  'type': 'l',\n",
       "  'text': 'Pris per lägenhet för nybyggda ordinära gruppbyggda småhus'},\n",
       " {'id': 'BO0201M',\n",
       "  'type': 'l',\n",
       "  'text': 'Tekniska uppgifter för nybyggda ordinära flerbostadshus'},\n",
       " {'id': 'BO0201S',\n",
       "  'type': 'l',\n",
       "  'text': 'Tekniska uppgifter för nybyggda ordinära gruppbyggda småhus'},\n",
       " {'id': 'BO0201E',\n",
       "  'type': 'l',\n",
       "  'text': 'Areor per lägenhet för nybyggda ordinära flerbostadshus'},\n",
       " {'id': 'BO0201F',\n",
       "  'type': 'l',\n",
       "  'text': 'Lägenheter/rumsenheter i nybyggda ordinära bostadshus'},\n",
       " {'id': 'BO0201N',\n",
       "  'type': 'l',\n",
       "  'text': 'Kostnader per kvm och per lägenhet för flerbostadshus och gruppbyggda småhus (äldre serier)'},\n",
       " {'id': 'BO0201J',\n",
       "  'type': 'l',\n",
       "  'text': 'Areor per lägenhet för nybyggda ordinära flerbostadshus (äldre serier)'},\n",
       " {'id': 'BO0201K',\n",
       "  'type': 'l',\n",
       "  'text': 'Lägenheter/rumsenheter i nybyggda ordinära bostadshus 1998-2006 (äldre serier)'},\n",
       " {'id': 'BO0201L',\n",
       "  'type': 'l',\n",
       "  'text': 'Byggnadsobjekt/lägenheter/rumsenheter i nybyggda bostadshus 1998-2006 (äldre serier)'}]"
      ]
     },
     "execution_count": 1,
     "metadata": {},
     "output_type": "execute_result"
    }
   ],
   "source": [
    "import requests\n",
    "import json\n",
    "from pyscbwrapper import SCB\n",
    "\n",
    "scb = SCB('sv', 'Bo', 'Bo0201')\n",
    "url_for_search = scb.url + \"/search\"  \n",
    "scb.info() "
   ]
  },
  {
   "cell_type": "code",
   "execution_count": 2,
   "metadata": {},
   "outputs": [
    {
     "data": {
      "text/plain": [
       "[{'id': 'PrisPerAreorFH02',\n",
       "  'type': 't',\n",
       "  'text': 'Pris per kvm för nybyggda ordinära flerbostadshus efter region och brutto-/nettopris. År 1994 - 2023',\n",
       "  'updated': '2024-12-06T08:00:00'},\n",
       " {'id': 'PrisPerAreorFH04',\n",
       "  'type': 't',\n",
       "  'text': 'Pris per kvm för nybyggda ordinära flerbostadshus efter region, upplåtelseform och brutto-/nettopris. År 1994 - 2023',\n",
       "  'updated': '2024-12-06T08:00:00'},\n",
       " {'id': 'PrisPerAreorFH03',\n",
       "  'type': 't',\n",
       "  'text': 'Pris per kvm för nybyggda ordinära flerbostadshus efter region, byggherre och brutto-/nettopris. År 1994 - 2023',\n",
       "  'updated': '2024-12-06T08:00:00'}]"
      ]
     },
     "execution_count": 2,
     "metadata": {},
     "output_type": "execute_result"
    }
   ],
   "source": [
    "scb.go_down('BO0201A') #Pris per kvm för nybyggda ordinära flerbostadshus\n",
    "scb.info()"
   ]
  },
  {
   "cell_type": "code",
   "execution_count": 3,
   "metadata": {},
   "outputs": [
    {
     "data": {
      "text/plain": [
       "{'title': 'Nybyggda ordinära flerbostadshus efter region, brutto-/nettopris, tabellinnehåll och år',\n",
       " 'variables': [{'code': 'Region',\n",
       "   'text': 'region',\n",
       "   'values': ['00', '0001', '0010', '0020', '0030', '0002', '4', '5', '6'],\n",
       "   'valueTexts': ['Riket',\n",
       "    'Storstadsområdena',\n",
       "    'Stor-Stockholm',\n",
       "    'Stor-Göteborg',\n",
       "    'Stor-Malmö',\n",
       "    'Länsregionerna I - III',\n",
       "    'Länsregion I (norr)',\n",
       "    'Länsregion II (mitten)',\n",
       "    'Länsregion III (syd)']},\n",
       "  {'code': 'BruttoNetto',\n",
       "   'text': 'brutto-/nettopris',\n",
       "   'values': ['1', '2'],\n",
       "   'valueTexts': ['brutto', 'netto']},\n",
       "  {'code': 'ContentsCode',\n",
       "   'text': 'tabellinnehåll',\n",
       "   'values': ['000003I5',\n",
       "    '000003I3',\n",
       "    '000003I1',\n",
       "    '000003I4',\n",
       "    '000003I2',\n",
       "    '000003I6'],\n",
       "   'valueTexts': ['Byggnadsobjekt, antal som prisstatistiken baseras på',\n",
       "    'Lägenheter, antal som prisstatistiken baseras på',\n",
       "    'Lägenhetsarea/lägenhet, kvm',\n",
       "    'Markpris/lägenhetsarea, kr',\n",
       "    'Byggnadspris/lägenhetsarea, kr',\n",
       "    'Totalt produktionspris/lägenhetsarea, kr']},\n",
       "  {'code': 'Tid',\n",
       "   'text': 'år',\n",
       "   'values': ['1994',\n",
       "    '1995',\n",
       "    '1996',\n",
       "    '1997',\n",
       "    '1998',\n",
       "    '1999',\n",
       "    '2000',\n",
       "    '2001',\n",
       "    '2002',\n",
       "    '2003',\n",
       "    '2004',\n",
       "    '2005',\n",
       "    '2006',\n",
       "    '2007',\n",
       "    '2008',\n",
       "    '2009',\n",
       "    '2010',\n",
       "    '2011',\n",
       "    '2012',\n",
       "    '2013',\n",
       "    '2014',\n",
       "    '2015',\n",
       "    '2016',\n",
       "    '2017',\n",
       "    '2018',\n",
       "    '2019',\n",
       "    '2020',\n",
       "    '2021',\n",
       "    '2022',\n",
       "    '2023'],\n",
       "   'valueTexts': ['1994',\n",
       "    '1995',\n",
       "    '1996',\n",
       "    '1997',\n",
       "    '1998',\n",
       "    '1999',\n",
       "    '2000',\n",
       "    '2001',\n",
       "    '2002',\n",
       "    '2003',\n",
       "    '2004',\n",
       "    '2005',\n",
       "    '2006',\n",
       "    '2007',\n",
       "    '2008',\n",
       "    '2009',\n",
       "    '2010',\n",
       "    '2011',\n",
       "    '2012',\n",
       "    '2013',\n",
       "    '2014',\n",
       "    '2015',\n",
       "    '2016',\n",
       "    '2017',\n",
       "    '2018',\n",
       "    '2019',\n",
       "    '2020',\n",
       "    '2021',\n",
       "    '2022',\n",
       "    '2023'],\n",
       "   'time': True}]}"
      ]
     },
     "execution_count": 3,
     "metadata": {},
     "output_type": "execute_result"
    }
   ],
   "source": [
    "scb.go_down('PrisPerAreorFH02')\n",
    "scb.info()"
   ]
  },
  {
   "cell_type": "code",
   "execution_count": 4,
   "metadata": {},
   "outputs": [
    {
     "name": "stdout",
     "output_type": "stream",
     "text": [
      "{'columns': [{'code': 'Region', 'text': 'region', 'type': 'd'}, {'code': 'BruttoNetto', 'text': 'brutto-/nettopris', 'comment': 'I brutto har priserna inte justerats med bidrag. I netto har priserna justerats med bidrag.\\r\\n', 'type': 'd'}, {'code': 'Tid', 'text': 'år', 'type': 't'}, {'code': '000003I5', 'text': 'Byggnadsobjekt, antal som prisstatistiken baseras på', 'type': 'c'}, {'code': '000003I3', 'text': 'Lägenheter, antal som prisstatistiken baseras på', 'type': 'c'}, {'code': '000003I1', 'text': 'Lägenhetsarea/lägenhet, kvm', 'type': 'c'}, {'code': '000003I4', 'text': 'Markpris/lägenhetsarea, kr', 'type': 'c'}, {'code': '000003I2', 'text': 'Byggnadspris/lägenhetsarea, kr', 'type': 'c'}, {'code': '000003I6', 'text': 'Totalt produktionspris/lägenhetsarea, kr', 'type': 'c'}], 'comments': [], 'data': [{'key': ['00', '1', '2002'], 'values': ['189', '7598', '83.6', '3700', '19774', '23474']}, {'key': ['00', '1', '2012'], 'values': ['243', '12577', '75.7', '7793', '28623', '36416']}, {'key': ['00', '1', '2022'], 'values': ['345', '25208', '60.2', '8828', '34596', '43425']}, {'key': ['00', '2', '2002'], 'values': ['189', '7598', '83.6', '3691', '19314', '23005']}, {'key': ['00', '2', '2012'], 'values': ['243', '12577', '75.7', '7793', '28619', '36412']}, {'key': ['00', '2', '2022'], 'values': ['345', '25208', '60.2', '8828', '33819', '42648']}, {'key': ['0010', '1', '2002'], 'values': ['58', '3117', '86.6', '5693', '23664', '29357']}, {'key': ['0010', '1', '2012'], 'values': ['80', '5376', '77.1', '10857', '31622', '42479']}, {'key': ['0010', '1', '2022'], 'values': ['64', '7165', '60.3', '13763', '38717', '52481']}, {'key': ['0010', '2', '2002'], 'values': ['58', '3117', '86.6', '5689', '23408', '29097']}, {'key': ['0010', '2', '2012'], 'values': ['80', '5376', '77.1', '10857', '31617', '42474']}, {'key': ['0010', '2', '2022'], 'values': ['64', '7165', '60.3', '13763', '38431', '52194']}, {'key': ['0020', '1', '2002'], 'values': ['21', '1201', '77.9', '2783', '20583', '23366']}, {'key': ['0020', '1', '2012'], 'values': ['32', '1713', '72.8', '8334', '28537', '36871']}, {'key': ['0020', '1', '2022'], 'values': ['41', '3893', '59.8', '9894', '33804', '43698']}, {'key': ['0020', '2', '2002'], 'values': ['21', '1201', '77.9', '2774', '19890', '22664']}, {'key': ['0020', '2', '2012'], 'values': ['32', '1713', '72.8', '8334', '28530', '36864']}, {'key': ['0020', '2', '2022'], 'values': ['41', '3893', '59.8', '9894', '33804', '43698']}, {'key': ['0030', '1', '2002'], 'values': ['16', '364', '91.4', '3226', '19291', '22518']}, {'key': ['0030', '1', '2012'], 'values': ['21', '1082', '76.2', '5637', '26581', '32218']}, {'key': ['0030', '1', '2022'], 'values': ['34', '2230', '62.3', '8084', '35396', '43480']}, {'key': ['0030', '2', '2002'], 'values': ['16', '364', '91.4', '3194', '18639', '21833']}, {'key': ['0030', '2', '2012'], 'values': ['21', '1082', '76.2', '5637', '26581', '32218']}, {'key': ['0030', '2', '2022'], 'values': ['34', '2230', '62.3', '8084', '33994', '42078']}], 'metadata': [{'infofile': 'BO0201', 'updated': '2024-12-02T07:49:00Z', 'label': 'Nybyggda ordinära flerbostadshus efter region, brutto-/nettopris, år och tabellinnehåll', 'source': 'SCB'}]}\n"
     ]
    }
   ],
   "source": [
    "scb.set_query(region=['Riket',\n",
    "    'Stor-Stockholm',\n",
    "    'Stor-Göteborg',\n",
    "    'Stor-Malmö'], \n",
    "              BruttoNetto=['brutto', 'netto'],\n",
    "              ContentsCode=[\"Lägenheter, antal som prisstatistiken baseras på\"], \n",
    "              år=[\"2002\", \"2012\", \"2022\"])\n",
    "data = scb.get_data()\n",
    "print(data)"
   ]
  },
  {
   "cell_type": "code",
   "execution_count": 5,
   "metadata": {},
   "outputs": [
    {
     "name": "stdout",
     "output_type": "stream",
     "text": [
      "{'columns': [{'code': 'Region', 'text': 'region', 'type': 'd'}, {'code': 'BruttoNetto', 'text': 'brutto-/nettopris', 'comment': 'I brutto har priserna inte justerats med bidrag. I netto har priserna justerats med bidrag.\\r\\n', 'type': 'd'}, {'code': 'Tid', 'text': 'år', 'type': 't'}, {'code': '000003I5', 'text': 'Byggnadsobjekt, antal som prisstatistiken baseras på', 'type': 'c'}, {'code': '000003I3', 'text': 'Lägenheter, antal som prisstatistiken baseras på', 'type': 'c'}, {'code': '000003I1', 'text': 'Lägenhetsarea/lägenhet, kvm', 'type': 'c'}, {'code': '000003I4', 'text': 'Markpris/lägenhetsarea, kr', 'type': 'c'}, {'code': '000003I2', 'text': 'Byggnadspris/lägenhetsarea, kr', 'type': 'c'}, {'code': '000003I6', 'text': 'Totalt produktionspris/lägenhetsarea, kr', 'type': 'c'}], 'comments': [], 'data': [{'key': ['00', '1', '2002'], 'values': ['189', '7598', '83.6', '3700', '19774', '23474']}, {'key': ['00', '1', '2012'], 'values': ['243', '12577', '75.7', '7793', '28623', '36416']}, {'key': ['00', '1', '2022'], 'values': ['345', '25208', '60.2', '8828', '34596', '43425']}, {'key': ['00', '2', '2002'], 'values': ['189', '7598', '83.6', '3691', '19314', '23005']}, {'key': ['00', '2', '2012'], 'values': ['243', '12577', '75.7', '7793', '28619', '36412']}, {'key': ['00', '2', '2022'], 'values': ['345', '25208', '60.2', '8828', '33819', '42648']}, {'key': ['0010', '1', '2002'], 'values': ['58', '3117', '86.6', '5693', '23664', '29357']}, {'key': ['0010', '1', '2012'], 'values': ['80', '5376', '77.1', '10857', '31622', '42479']}, {'key': ['0010', '1', '2022'], 'values': ['64', '7165', '60.3', '13763', '38717', '52481']}, {'key': ['0010', '2', '2002'], 'values': ['58', '3117', '86.6', '5689', '23408', '29097']}, {'key': ['0010', '2', '2012'], 'values': ['80', '5376', '77.1', '10857', '31617', '42474']}, {'key': ['0010', '2', '2022'], 'values': ['64', '7165', '60.3', '13763', '38431', '52194']}], 'metadata': [{'infofile': 'BO0201', 'updated': '2024-12-02T07:49:00Z', 'label': 'Nybyggda ordinära flerbostadshus efter region, brutto-/nettopris, år och tabellinnehåll', 'source': 'SCB'}]}\n",
      "   Region Brutto-/Nettopris    År Lägenhetsarea/lägenhet (kvm)  \\\n",
      "0      00                 1  2002                          189   \n",
      "1      00                 1  2012                          243   \n",
      "2      00                 1  2022                          345   \n",
      "3      00                 2  2002                          189   \n",
      "4      00                 2  2012                          243   \n",
      "5      00                 2  2022                          345   \n",
      "6    0010                 1  2002                           58   \n",
      "7    0010                 1  2012                           80   \n",
      "8    0010                 1  2022                           64   \n",
      "9    0010                 2  2002                           58   \n",
      "10   0010                 2  2012                           80   \n",
      "11   0010                 2  2022                           64   \n",
      "\n",
      "   Markpris/lägenhetsarea (kr) Byggnadspris/lägenhetsarea (kr)  \n",
      "0                         7598                            83.6  \n",
      "1                        12577                            75.7  \n",
      "2                        25208                            60.2  \n",
      "3                         7598                            83.6  \n",
      "4                        12577                            75.7  \n",
      "5                        25208                            60.2  \n",
      "6                         3117                            86.6  \n",
      "7                         5376                            77.1  \n",
      "8                         7165                            60.3  \n",
      "9                         3117                            86.6  \n",
      "10                        5376                            77.1  \n",
      "11                        7165                            60.3  \n",
      "Data sparad som stor_stockholm_data.csv\n"
     ]
    }
   ],
   "source": [
    "import pandas as pd\n",
    "\n",
    "# Ställ in din fråga\n",
    "scb.set_query(region=['Riket','Stor-Stockholm'], \n",
    "              BruttoNetto=['brutto'], \n",
    "               ContentsCode=[\n",
    "                  \"Lägenhetsarea/lägenhet, kvm\", \n",
    "                  \"Markpris/lägenhetsarea, kr\", \n",
    "                  \"Byggnadspris/lägenhetsarea, kr\"\n",
    "              ],\n",
    "              år=[\"2002\", \"2012\", \"2022\"])\n",
    "\n",
    "\n",
    "data = scb.get_data()\n",
    "\n",
    "# Kontrollera struktur på hämtad data (JSON-format)\n",
    "print(data)\n",
    "\n",
    "# Omvandla JSON-data till en DataFrame\n",
    "columns = [\n",
    "        {\n",
    "        'Region': item['key'][0],\n",
    "        'Brutto-/Nettopris':item['key'][1] , \n",
    "        'År':item['key'][2], \n",
    "        'Lägenhetsarea/lägenhet (kvm)': item['values'][0],  \n",
    "        'Markpris/lägenhetsarea (kr)': item['values'][1], \n",
    "        'Byggnadspris/lägenhetsarea (kr)': item['values'][2] \n",
    "        }\n",
    "for item in data['data']\n",
    "]\n",
    "df = pd.DataFrame(columns)\n",
    "\n",
    "# Visa resultatet\n",
    "print(df)\n",
    "\n",
    "df.to_csv(\"stor_stockholm_data.csv\", index=False, encoding='utf-8')\n",
    "print(\"Data sparad som stor_stockholm_data.csv\")"
   ]
  }
 ],
 "metadata": {
  "kernelspec": {
   "display_name": "Python 3",
   "language": "python",
   "name": "python3"
  },
  "language_info": {
   "codemirror_mode": {
    "name": "ipython",
    "version": 3
   },
   "file_extension": ".py",
   "mimetype": "text/x-python",
   "name": "python",
   "nbconvert_exporter": "python",
   "pygments_lexer": "ipython3",
   "version": "3.11.5"
  }
 },
 "nbformat": 4,
 "nbformat_minor": 2
}
